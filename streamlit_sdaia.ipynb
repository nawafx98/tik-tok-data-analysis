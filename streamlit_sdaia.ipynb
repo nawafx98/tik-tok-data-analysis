{
  "nbformat": 4,
  "nbformat_minor": 0,
  "metadata": {
    "colab": {
      "provenance": [],
      "authorship_tag": "ABX9TyOsL29Ks7jhwpxG21BjvNoQ"
    },
    "kernelspec": {
      "name": "python3",
      "display_name": "Python 3"
    },
    "language_info": {
      "name": "python"
    }
  },
  "cells": [
    {
      "cell_type": "code",
      "execution_count": 10,
      "metadata": {
        "id": "dXDKzRMHGKtK"
      },
      "outputs": [],
      "source": [
        "import streamlit as st\n",
        "import numpy as np\n",
        "import cv2\n",
        "from PIL import Image\n",
        "import yolov7"
      ]
    },
    {
      "cell_type": "code",
      "source": [
        "def process_image(image):\n",
        "    # Convert the image to OpenCV format\n",
        "    cv_image = cv2.cvtColor(np.array(image), cv2.COLOR_RGB2BGR)\n",
        "\n",
        "    # Run the YOLOv7 model to detect objects\n",
        "    model = yolov7.load('/content/best.pt')\n",
        "    # set model parameters\n",
        "    model.conf = 0.25  # NMS confidence threshold\n",
        "    model.iou = 0.45  # NMS IoU threshold\n",
        "      # (optional list) filter by class\n",
        "    # perform inference\n",
        "    results = model(cv_image)\n",
        "\n",
        "\n",
        "    # Draw bounding boxes on the image\n",
        "    for result in results:\n",
        "        label, confidence, bbox = result\n",
        "        x1, y1, x2, y2 = bbox\n",
        "        cv2.rectangle(cv_image, (x1, y1), (x2, y2), (0, 255, 0), 2)\n",
        "        cv2.putText(cv_image, f'{label}: {confidence:.2f}', (x1, y1 - 10), cv2.FONT_HERSHEY_SIMPLEX, 0.5, (0, 255, 0), 2)\n",
        "\n",
        "    # Convert the OpenCV image back to PIL format\n",
        "    processed_image = Image.fromarray(cv2.cvtColor(cv_image, cv2.COLOR_BGR2RGB))\n",
        "\n",
        "    return processed_image\n",
        "\n",
        "st.title(\"YOLOv7 Object Detection\")\n",
        "\n",
        "# Upload an image\n",
        "image_file = st.file_uploader(\"Upload an image\", type=[\"jpg\", \"jpeg\", \"png\"])\n",
        "\n",
        "if image_file is not None:\n",
        "    # Display the original image\n",
        "    st.image(image_file, caption=\"Original Image\", use_column_width=True)\n",
        "\n",
        "    # Process the image\n",
        "    image = Image.open(image_file)\n",
        "    processed_image = process_image(image)\n",
        "\n",
        "    # Display the processed image\n",
        "    st.image(processed_image, caption=\"Processed Image\", use_column_width=True)"
      ],
      "metadata": {
        "colab": {
          "base_uri": "https://localhost:8080/"
        },
        "id": "Vdz_d3RsGiz0",
        "outputId": "3fe8efdb-86a2-49b1-9055-b5de7f4805c5"
      },
      "execution_count": 11,
      "outputs": [
        {
          "output_type": "stream",
          "name": "stderr",
          "text": [
            "WARNING:root:\n",
            "  \u001b[33m\u001b[1mWarning:\u001b[0m to view this Streamlit app on a browser, run it with the following\n",
            "  command:\n",
            "\n",
            "    streamlit run /usr/local/lib/python3.9/dist-packages/ipykernel_launcher.py [ARGUMENTS]\n",
            "2023-03-31 00:49:44.044 \n",
            "  \u001b[33m\u001b[1mWarning:\u001b[0m to view this Streamlit app on a browser, run it with the following\n",
            "  command:\n",
            "\n",
            "    streamlit run /usr/local/lib/python3.9/dist-packages/ipykernel_launcher.py [ARGUMENTS]\n"
          ]
        }
      ]
    },
    {
      "cell_type": "code",
      "source": [
        "!streamlit run /usr/local/lib/python3.9/dist-packages/ipykernel_launcher.py"
      ],
      "metadata": {
        "colab": {
          "base_uri": "https://localhost:8080/"
        },
        "id": "cWG5YJosJEkL",
        "outputId": "8aeb1972-4508-462d-f552-badc282bf36e"
      },
      "execution_count": 12,
      "outputs": [
        {
          "output_type": "stream",
          "name": "stdout",
          "text": [
            "\n",
            "Collecting usage statistics. To deactivate, set browser.gatherUsageStats to False.\n",
            "\u001b[0m\n",
            "Traceback (most recent call last):\n",
            "  File \"/usr/local/bin/streamlit\", line 8, in <module>\n",
            "    sys.exit(main())\n",
            "  File \"/usr/local/lib/python3.9/dist-packages/click/core.py\", line 1128, in __call__\n",
            "    return self.main(*args, **kwargs)\n",
            "  File \"/usr/local/lib/python3.9/dist-packages/click/core.py\", line 1053, in main\n",
            "    rv = self.invoke(ctx)\n",
            "  File \"/usr/local/lib/python3.9/dist-packages/click/core.py\", line 1659, in invoke\n",
            "    return _process_result(sub_ctx.command.invoke(sub_ctx))\n",
            "  File \"/usr/local/lib/python3.9/dist-packages/click/core.py\", line 1395, in invoke\n",
            "    return ctx.invoke(self.callback, **ctx.params)\n",
            "  File \"/usr/local/lib/python3.9/dist-packages/click/core.py\", line 754, in invoke\n",
            "    return __callback(*args, **kwargs)\n",
            "  File \"/usr/local/lib/python3.9/dist-packages/streamlit/web/cli.py\", line 209, in main_run\n",
            "    _main_run(target, args, flag_options=kwargs)\n",
            "  File \"/usr/local/lib/python3.9/dist-packages/streamlit/web/cli.py\", line 245, in _main_run\n",
            "    bootstrap.run(file, command_line, args, flag_options)\n",
            "  File \"/usr/local/lib/python3.9/dist-packages/streamlit/web/bootstrap.py\", line 397, in run\n",
            "    _install_pages_watcher(main_script_path)\n",
            "  File \"/usr/local/lib/python3.9/dist-packages/streamlit/web/bootstrap.py\", line 373, in _install_pages_watcher\n",
            "    watch_dir(\n",
            "  File \"/usr/local/lib/python3.9/dist-packages/streamlit/watcher/path_watcher.py\", line 153, in watch_dir\n",
            "    return _watch_path(\n",
            "  File \"/usr/local/lib/python3.9/dist-packages/streamlit/watcher/path_watcher.py\", line 128, in _watch_path\n",
            "    watcher_class(\n",
            "  File \"/usr/local/lib/python3.9/dist-packages/streamlit/watcher/event_based_path_watcher.py\", line 92, in __init__\n",
            "    path_watcher.watch_path(\n",
            "  File \"/usr/local/lib/python3.9/dist-packages/streamlit/watcher/event_based_path_watcher.py\", line 170, in watch_path\n",
            "    folder_handler.watch = self._observer.schedule(\n",
            "  File \"/usr/local/lib/python3.9/dist-packages/watchdog/observers/api.py\", line 301, in schedule\n",
            "    emitter.start()\n",
            "  File \"/usr/local/lib/python3.9/dist-packages/watchdog/utils/__init__.py\", line 92, in start\n",
            "    self.on_thread_start()\n",
            "  File \"/usr/local/lib/python3.9/dist-packages/watchdog/observers/inotify.py\", line 119, in on_thread_start\n",
            "    self._inotify = InotifyBuffer(path, self.watch.is_recursive)\n",
            "  File \"/usr/local/lib/python3.9/dist-packages/watchdog/observers/inotify_buffer.py\", line 37, in __init__\n",
            "    self._inotify = Inotify(path, recursive)\n",
            "  File \"/usr/local/lib/python3.9/dist-packages/watchdog/observers/inotify_c.py\", line 179, in __init__\n",
            "    self._add_dir_watch(path, recursive, event_mask)\n",
            "  File \"/usr/local/lib/python3.9/dist-packages/watchdog/observers/inotify_c.py\", line 402, in _add_dir_watch\n",
            "    self._add_watch(full_path, mask)\n",
            "  File \"/usr/local/lib/python3.9/dist-packages/watchdog/observers/inotify_c.py\", line 416, in _add_watch\n",
            "    Inotify._raise_error()\n",
            "  File \"/usr/local/lib/python3.9/dist-packages/watchdog/observers/inotify_c.py\", line 428, in _raise_error\n",
            "    raise OSError(errno.ENOSPC, \"inotify watch limit reached\")\n",
            "OSError: [Errno 28] inotify watch limit reached\n"
          ]
        }
      ]
    },
    {
      "cell_type": "code",
      "source": [],
      "metadata": {
        "id": "cuvKEMd6JLig"
      },
      "execution_count": null,
      "outputs": []
    }
  ]
}